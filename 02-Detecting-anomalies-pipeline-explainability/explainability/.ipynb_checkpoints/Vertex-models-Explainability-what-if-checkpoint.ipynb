{
 "cells": [
  {
   "cell_type": "markdown",
   "id": "f3d406c4-f6e2-48d1-bbd1-f0b3ed04d42b",
   "metadata": {},
   "source": [
    "## Explainabe AI for Vertex AI models"
   ]
  },
  {
   "cell_type": "markdown",
   "id": "2b6db075-bf17-40db-9c3d-e68b618c98d5",
   "metadata": {},
   "source": [
    "This notebook covers two APIs for explainability for \n",
    "1. Explainable AI for feature attribution\n",
    "2. What-IF tool"
   ]
  },
  {
   "cell_type": "code",
   "execution_count": null,
   "id": "77eec9b2-dbe1-4f47-bb06-72081dd42e5e",
   "metadata": {},
   "outputs": [],
   "source": [
    "from typing import Dict\n",
    "\n",
    "from google.cloud import aiplatform\n",
    "from google.protobuf import json_format\n",
    "from google.protobuf.struct_pb2 import Value"
   ]
  },
  {
   "cell_type": "code",
   "execution_count": 2,
   "id": "f465e5e0-6bd8-4a7f-9c0f-bd3a63e78aa4",
   "metadata": {},
   "outputs": [],
   "source": [
    "def predict_tabular_classification(\n",
    "    project=\"29437252490\",\n",
    "    endpoint_id=\"5406193120658325504\",\n",
    "    location=\"us-central1\",\n",
    "    instance_dict={\"Step\":500, \"Type\":\"DEBIT\", \"Amount\":500, \"oldbalanceOrg\":1000, \n",
    "                   \"newbalanceOrig\":500, \"oldbalanceDest\":6500, \"newbalanceDest\":7000},\n",
    "    api_endpoint: str = \"us-central1-aiplatform.googleapis.com\"\n",
    "):\n",
    "    client_options = {\"api_endpoint\": api_endpoint}\n",
    "    # Initialize client that will be used to create and send requests.\n",
    "    # This client only needs to be created once, and can be reused for multiple requests.\n",
    "    client = aiplatform.gapic.PredictionServiceClient(client_options=client_options)\n",
    "    # for more info on the instance schema, please use get_model_sample.py\n",
    "    # and look at the yaml found in instance_schema_uri\n",
    "    instance = json_format.ParseDict(instance_dict, Value())\n",
    "    instances = [instance]\n",
    "    parameters_dict = {}\n",
    "    parameters = json_format.ParseDict(parameters_dict, Value())\n",
    "    endpoint = client.endpoint_path(\n",
    "        project=project, location=location, endpoint=endpoint_id\n",
    "    )\n",
    "    response = client.predict(\n",
    "        endpoint=endpoint, instances=instances\n",
    "    )\n",
    "    print(\"response\")\n",
    "    print(\" deployed_model_id:\", response.deployed_model_id)\n",
    "    # See gs://google-cloud-aiplatform/schema/predict/prediction/tables_classification.yaml for the format of the predictions.\n",
    "    predictions = response.predictions\n",
    "    for prediction in predictions:\n",
    "        print(\" prediction:\", dict(prediction))"
   ]
  },
  {
   "cell_type": "code",
   "execution_count": 3,
   "id": "86178a28-cd04-4c6e-a6cf-339e6bab9ce9",
   "metadata": {},
   "outputs": [
    {
     "name": "stdout",
     "output_type": "stream",
     "text": [
      "response\n",
      " deployed_model_id: 7709977844104822784\n",
      " prediction: {'classes': ['false', 'true'], 'scores': [0.9998745322227478, 0.0001253637601621449]}\n"
     ]
    }
   ],
   "source": [
    "predict_tabular_classification()"
   ]
  },
  {
   "cell_type": "code",
   "execution_count": 6,
   "id": "3b5023ab-980a-41f2-9482-2ae32f5943f7",
   "metadata": {},
   "outputs": [],
   "source": [
    "def explain_tabular_classification(\n",
    "    project=\"29437252490\",\n",
    "    endpoint_id=\"5406193120658325504\",\n",
    "    location=\"us-central1\",\n",
    "    instance_dict={\"Step\":500, \"Type\":\"DEBIT\", \"Amount\":500, \"oldbalanceOrg\":1000, \n",
    "                   \"newbalanceOrig\":500, \"oldbalanceDest\":6500, \"newbalanceDest\":7000},\n",
    "    api_endpoint: str = \"us-central1-aiplatform.googleapis.com\"\n",
    "):\n",
    "    client_options = {\"api_endpoint\": api_endpoint}\n",
    "    # Initialize client that will be used to create and send requests.\n",
    "    # This client only needs to be created once, and can be reused for multiple requests.\n",
    "    client = aiplatform.gapic.PredictionServiceClient(client_options=client_options)\n",
    "    # for more info on the instance schema, please use get_model_sample.py\n",
    "    # and look at the yaml found in instance_schema_uri\n",
    "    instance = json_format.ParseDict(instance_dict, Value())\n",
    "    instances = [instance]\n",
    "    parameters_dict = {}\n",
    "    parameters = json_format.ParseDict(parameters_dict, Value())\n",
    "    endpoint = client.endpoint_path(\n",
    "        project=project, location=location, endpoint=endpoint_id\n",
    "    )\n",
    "    response = client.explain(\n",
    "        endpoint=endpoint, instances=instances\n",
    "    )\n",
    "    for explanation in response.explanations:\n",
    "        print(\" explanation\")\n",
    "        # Feature attributions.\n",
    "        attributions = explanation.attributions\n",
    "        for attribution in attributions:\n",
    "            print(attribution)\n",
    "#             print(\"  attribution\")\n",
    "#             print(\"   baseline_output_value:\", attribution.baseline_output_value)\n",
    "#             print(\"   instance_output_value:\", attribution.instance_output_value)\n",
    "#             print(\"   output_display_name:\", attribution.output_display_name)\n",
    "#             print(\"   approximation_error:\", attribution.approximation_error)\n",
    "#             print(\"   output_name:\", attribution.output_name)\n",
    "#             output_index = attribution.output_index\n",
    "#             for output_index in output_index:\n",
    "#                 print(\"   output_index:\", output_index)\n",
    "\n",
    "#     for prediction in response.predictions:\n",
    "#         print(prediction)"
   ]
  },
  {
   "cell_type": "code",
   "execution_count": 7,
   "id": "ade208a0-a4ef-49c2-a9e0-4339c097788f",
   "metadata": {},
   "outputs": [
    {
     "name": "stdout",
     "output_type": "stream",
     "text": [
      " explanation\n",
      "baseline_output_value: 0.9999809265136719\n",
      "instance_output_value: 0.9998745322227478\n",
      "feature_attributions {\n",
      "  struct_value {\n",
      "    fields {\n",
      "      key: \"Amount\"\n",
      "      value {\n",
      "        number_value: -0.2038215305656195\n",
      "      }\n",
      "    }\n",
      "    fields {\n",
      "      key: \"Step\"\n",
      "      value {\n",
      "        number_value: -0.05122543266043067\n",
      "      }\n",
      "    }\n",
      "    fields {\n",
      "      key: \"Type\"\n",
      "      value {\n",
      "        number_value: 0.03956622071564198\n",
      "      }\n",
      "    }\n",
      "    fields {\n",
      "      key: \"newbalanceDest\"\n",
      "      value {\n",
      "        number_value: -0.006619255989789963\n",
      "      }\n",
      "    }\n",
      "    fields {\n",
      "      key: \"newbalanceOrig\"\n",
      "      value {\n",
      "        number_value: 0.1480723987333477\n",
      "      }\n",
      "    }\n",
      "    fields {\n",
      "      key: \"oldbalanceDest\"\n",
      "      value {\n",
      "        number_value: -0.0006055310368537903\n",
      "      }\n",
      "    }\n",
      "    fields {\n",
      "      key: \"oldbalanceOrg\"\n",
      "      value {\n",
      "        number_value: 0.07452673651278019\n",
      "      }\n",
      "    }\n",
      "  }\n",
      "}\n",
      "output_index: 0\n",
      "output_display_name: \"false\"\n",
      "approximation_error: 0.0055834491653066086\n",
      "output_name: \"scores\"\n",
      "\n"
     ]
    }
   ],
   "source": [
    "explain_tabular_classification()"
   ]
  },
  {
   "cell_type": "code",
   "execution_count": null,
   "id": "14222966-16cc-436d-b72e-a1ab3e9d8f3f",
   "metadata": {},
   "outputs": [],
   "source": []
  },
  {
   "cell_type": "code",
   "execution_count": 9,
   "id": "2c47ef13-dc0a-4ed5-925c-562d75b69f47",
   "metadata": {},
   "outputs": [],
   "source": [
    "import warnings\n",
    "\n",
    "import joblib\n",
    "import matplotlib.pyplot as plt\n",
    "import numpy as np\n",
    "import pandas as pd\n",
    "from google.cloud import storage\n",
    "from sklearn.ensemble import RandomForestClassifier\n",
    "from sklearn.metrics import (average_precision_score, classification_report,\n",
    "                             confusion_matrix, f1_score)\n",
    "from sklearn.model_selection import train_test_split\n",
    "warnings.filterwarnings(\"ignore\")\n",
    "from witwidget.notebook.visualization import WitConfigBuilder, WitWidget"
   ]
  },
  {
   "cell_type": "code",
   "execution_count": 12,
   "id": "3bc5e4d6-f4b1-42c1-b0eb-878835b614b8",
   "metadata": {},
   "outputs": [],
   "source": [
    "X = pd.read_csv(\n",
    "    \"gs://cloud-samples-data/vertex-ai/managed_notebooks/fraud_detection/fraud_detection_data.csv\"\n",
    ")\n",
    "X.drop([\"nameOrig\", \"nameDest\", \"isFlaggedFraud\"], axis=1, inplace=True)\n",
    "y = X[[\"isFraud\"]]\n",
    "X = X.drop([\"isFraud\"], axis=1)\n",
    "X_train, X_test, y_train, y_test = train_test_split(\n",
    "    X, y, test_size=0.3, random_state=42, shuffle=False\n",
    ")\n",
    "\n",
    "pos_samples = y_test[y_test[\"isFraud\"] == 1].sample(50).index\n",
    "neg_samples = y_test[y_test[\"isFraud\"] == 0].sample(50).index\n",
    "test_samples_y = pd.concat([y_test.loc[pos_samples], y_test.loc[neg_samples]])\n",
    "test_samples_X = X_test.loc[test_samples_y.index].copy()"
   ]
  },
  {
   "cell_type": "code",
   "execution_count": 13,
   "id": "c974b69d-fe33-4271-927a-b14f09997541",
   "metadata": {},
   "outputs": [
    {
     "data": {
      "text/html": [
       "<style>.container { width:100% !important; }</style>"
      ],
      "text/plain": [
       "<IPython.core.display.HTML object>"
      ]
     },
     "metadata": {},
     "output_type": "display_data"
    },
    {
     "data": {
      "application/vnd.jupyter.widget-view+json": {
       "model_id": "e756903038e84111b30caebfc18ad599",
       "version_major": 2,
       "version_minor": 0
      },
      "text/plain": [
       "WitWidget(config={'model_type': 'classification', 'label_vocab': ['not-fraud', 'fraud'], 'feature_names': ['st…"
      ]
     },
     "metadata": {},
     "output_type": "display_data"
    }
   ],
   "source": [
    "# configure the target and class-labels\n",
    "TARGET_FEATURE = \"isFraud\"\n",
    "LABEL_VOCAB = [\"not-fraud\", \"fraud\"]\n",
    "# function to return predictions from the deployed Model\n",
    "def endpoint_predict(instances: list):\n",
    "    prediction = endpoint.predict(instances=instances)\n",
    "    preds = [[1 - i, i] for i in prediction.predictions]\n",
    "    return preds\n",
    "\n",
    "\n",
    "# Combine the features and labels into one array for the What-If Tool\n",
    "test_examples = np.hstack(\n",
    "    (test_samples_X.to_numpy(), test_samples_y.to_numpy().reshape(-1, 1))\n",
    ")\n",
    "\n",
    "# Configure the WIT with the prediction function\n",
    "config_builder = (\n",
    "    WitConfigBuilder(\n",
    "        test_examples.tolist(), test_samples_X.columns.tolist() + [\"isFraud\"]\n",
    "    )\n",
    "    .set_custom_predict_fn(endpoint_predict)\n",
    "    .set_target_feature(TARGET_FEATURE)\n",
    "    .set_label_vocab(LABEL_VOCAB)\n",
    ")\n",
    "\n",
    "# run the WIT-widget\n",
    "WitWidget(config_builder, height=400)"
   ]
  },
  {
   "cell_type": "code",
   "execution_count": null,
   "id": "63610b83-cfdc-476c-a7ea-b65575dcc8f5",
   "metadata": {},
   "outputs": [],
   "source": []
  }
 ],
 "metadata": {
  "environment": {
   "kernel": "python3",
   "name": "tf2-gpu.2-8.m91",
   "type": "gcloud",
   "uri": "gcr.io/deeplearning-platform-release/tf2-gpu.2-8:m91"
  },
  "kernelspec": {
   "display_name": "Python 3",
   "language": "python",
   "name": "python3"
  },
  "language_info": {
   "codemirror_mode": {
    "name": "ipython",
    "version": 3
   },
   "file_extension": ".py",
   "mimetype": "text/x-python",
   "name": "python",
   "nbconvert_exporter": "python",
   "pygments_lexer": "ipython3",
   "version": "3.7.12"
  }
 },
 "nbformat": 4,
 "nbformat_minor": 5
}

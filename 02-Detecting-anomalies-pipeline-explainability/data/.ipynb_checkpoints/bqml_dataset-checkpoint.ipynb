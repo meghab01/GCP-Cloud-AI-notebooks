{
 "cells": [
  {
   "cell_type": "code",
   "execution_count": null,
   "id": "889716ee-7532-41f4-b769-de72ce6b09c4",
   "metadata": {},
   "outputs": [],
   "source": [
    "#create BQ dataset from GCS"
   ]
  },
  {
   "cell_type": "code",
   "execution_count": 1,
   "id": "f6d40de1-92ec-4bd5-883f-899a57e3ceba",
   "metadata": {},
   "outputs": [],
   "source": [
    "project = \"exp-mb\"\n",
    "location = \"us-west1\""
   ]
  },
  {
   "cell_type": "code",
   "execution_count": 4,
   "id": "daa7ab03-24e0-4c74-b0eb-8d4cfc9713a3",
   "metadata": {
    "tags": []
   },
   "outputs": [],
   "source": [
    "def load_dataset(gcs_uri, table_id):\n",
    "        job_config = bigquery.LoadJobConfig(\n",
    "            schema=[\n",
    "                bigquery.SchemaField(\"Step\", \"NUMERIC\"),\n",
    "                bigquery.SchemaField(\"Type\", \"STRING\"),\n",
    "                bigquery.SchemaField(\"Amount\", \"NUMERIC\"),\n",
    "                bigquery.SchemaField(\"nameOrig\", \"STRING\"),\n",
    "                bigquery.SchemaField(\"oldbalanceOrg\", \"NUMERIC\"),\n",
    "                bigquery.SchemaField(\"newbalanceOrig\", \"NUMERIC\"),\n",
    "                bigquery.SchemaField(\"nameDest\", \"STRING\"),\n",
    "                bigquery.SchemaField(\"oldbalanceDest\", \"NUMERIC\"),\n",
    "                bigquery.SchemaField(\"newbalanceDest\", \"NUMERIC\"),\n",
    "                bigquery.SchemaField(\"isFraud\", \"NUMERIC\"),\n",
    "                bigquery.SchemaField(\"isFlaggedFraud\", \"NUMERIC\")\n",
    "            ],\n",
    "            skip_leading_rows=1,\n",
    "            # The source format defaults to CSV, so the line below is optional.\n",
    "            source_format=bigquery.SourceFormat.CSV,\n",
    "        )\n",
    "        print(f\"Loading {gcs_uri} into {table_id}\")\n",
    "        load_job = client.load_table_from_uri(\n",
    "            gcs_uri, table_id, job_config=job_config\n",
    "        )  # Make an API request.\n",
    "\n",
    "        load_job.result()  # Waits for the job to complete.\n",
    "        destination_table = client.get_table(table_id)  # Make an API request.\n",
    "        print(\"Loaded {} rows.\".format(destination_table.num_rows))"
   ]
  },
  {
   "cell_type": "code",
   "execution_count": 5,
   "id": "e9c58e75-0a20-4258-9728-50f835d42897",
   "metadata": {},
   "outputs": [
    {
     "name": "stdout",
     "output_type": "stream",
     "text": [
      "Created dataset exp-mb:anomaly @ us-west1\n"
     ]
    }
   ],
   "source": [
    "from google.cloud import bigquery\n",
    "client = bigquery.Client(project=project, location=location)\n",
    "dataset = bigquery.Dataset(\"exp-mb.anomaly\")\n",
    "dataset.location = location\n",
    "dataset = client.create_dataset(dataset, exists_ok=True, timeout=300)\n",
    "print(f\"Created dataset {dataset.full_dataset_id} @ {dataset.location}\")\n",
    "\n",
    "    "
   ]
  },
  {
   "cell_type": "code",
   "execution_count": 7,
   "id": "dd11f5a4-392a-4ad3-8ae5-6e4d94fa0b84",
   "metadata": {},
   "outputs": [
    {
     "name": "stdout",
     "output_type": "stream",
     "text": [
      "Deleting any tables that might have the same name on the dataset\n",
      "will load data to table\n",
      "Loading gs://demo-anomaly1/data/fraud.csv into exp-mb.anomaly.fraud_raw\n",
      "Loaded 6362620 rows.\n"
     ]
    },
    {
     "ename": "NameError",
     "evalue": "name 'raw_dataset' is not defined",
     "output_type": "error",
     "traceback": [
      "\u001b[0;31m---------------------------------------------------------------------------\u001b[0m",
      "\u001b[0;31mNameError\u001b[0m                                 Traceback (most recent call last)",
      "\u001b[0;32m/tmp/ipykernel_10709/34673087.py\u001b[0m in \u001b[0;36m<module>\u001b[0;34m\u001b[0m\n\u001b[1;32m     12\u001b[0m \u001b[0mload_dataset\u001b[0m\u001b[0;34m(\u001b[0m\u001b[0mgcs_data_uri\u001b[0m\u001b[0;34m,\u001b[0m \u001b[0mtable_id\u001b[0m\u001b[0;34m)\u001b[0m\u001b[0;34m\u001b[0m\u001b[0;34m\u001b[0m\u001b[0m\n\u001b[1;32m     13\u001b[0m \u001b[0mraw_dataset_uri\u001b[0m \u001b[0;34m=\u001b[0m \u001b[0;34mf\"bq://{table_id}\"\u001b[0m\u001b[0;34m\u001b[0m\u001b[0;34m\u001b[0m\u001b[0m\n\u001b[0;32m---> 14\u001b[0;31m \u001b[0mraw_dataset\u001b[0m\u001b[0;34m.\u001b[0m\u001b[0muri\u001b[0m \u001b[0;34m=\u001b[0m \u001b[0mraw_dataset_uri\u001b[0m\u001b[0;34m\u001b[0m\u001b[0;34m\u001b[0m\u001b[0m\n\u001b[0m",
      "\u001b[0;31mNameError\u001b[0m: name 'raw_dataset' is not defined"
     ]
    }
   ],
   "source": [
    "#bq_dataset_id = f\"{project}.{bq_dataset}\"\n",
    "#create_dataset_if_not_exist(bq_dataset_id, bq_location)\n",
    "bq_dataset = f\"anomaly\"\n",
    "raw_table_name = f\"fraud_raw\"\n",
    "BUCKET_NAME = \"demo-anomaly1\"  # @param {type:\"string\"}\n",
    "DATA_FOLDER = f\"{BUCKET_NAME}/data\"\n",
    "gcs_data_uri = f\"gs://{DATA_FOLDER}/fraud.csv\"\n",
    "table_id = f\"{project}.{bq_dataset}.{raw_table_name}\"\n",
    "print(\"Deleting any tables that might have the same name on the dataset\")\n",
    "client.delete_table(table_id, not_found_ok=True)\n",
    "print(\"will load data to table\")\n",
    "load_dataset(gcs_data_uri, table_id)\n",
    "raw_dataset_uri = f\"bq://{table_id}\"\n",
    "raw_dataset.uri = raw_dataset_uri"
   ]
  },
  {
   "cell_type": "code",
   "execution_count": null,
   "id": "105a5f74-7d81-4719-9ca5-871afc25ed1c",
   "metadata": {},
   "outputs": [],
   "source": []
  }
 ],
 "metadata": {
  "environment": {
   "kernel": "python3",
   "name": "tf2-gpu.2-8.m91",
   "type": "gcloud",
   "uri": "gcr.io/deeplearning-platform-release/tf2-gpu.2-8:m91"
  },
  "kernelspec": {
   "display_name": "Python 3",
   "language": "python",
   "name": "python3"
  },
  "language_info": {
   "codemirror_mode": {
    "name": "ipython",
    "version": 3
   },
   "file_extension": ".py",
   "mimetype": "text/x-python",
   "name": "python",
   "nbconvert_exporter": "python",
   "pygments_lexer": "ipython3",
   "version": "3.7.12"
  }
 },
 "nbformat": 4,
 "nbformat_minor": 5
}

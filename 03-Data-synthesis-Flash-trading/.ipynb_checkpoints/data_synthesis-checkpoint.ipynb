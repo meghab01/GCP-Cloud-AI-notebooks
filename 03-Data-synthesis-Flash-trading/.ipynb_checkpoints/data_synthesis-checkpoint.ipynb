{
 "cells": [
  {
   "cell_type": "code",
   "execution_count": 126,
   "id": "02276499-e09b-408b-87b6-466ef3005211",
   "metadata": {},
   "outputs": [],
   "source": [
    "import random\n",
    "import datetime\n",
    "import pandas as pd\n",
    "from google.cloud import bigquery\n",
    "client = bigquery.Client()"
   ]
  },
  {
   "cell_type": "code",
   "execution_count": null,
   "id": "2284ae9e-66e7-4e49-8efd-c4d75aad1482",
   "metadata": {},
   "outputs": [],
   "source": [
    "##### Generate timeseries data \n",
    "def genTimestamp():\n",
    "    dt = datetime.datetime(2022, 4, 25, 20, 59, 59)\n",
    "    end = datetime.datetime(2022, 4, 25, 21, 59, 59)\n",
    "    step = datetime.timedelta(seconds=1)\n",
    "    result = []\n",
    "    while dt < end:\n",
    "        result.append(dt.strftime('%Y-%m-%d %H:%M:%S'))\n",
    "        dt += step\n",
    "    return dt"
   ]
  },
  {
   "cell_type": "code",
   "execution_count": 202,
   "id": "7d9c3d69-25c7-4dae-aca0-8091767ca39f",
   "metadata": {
    "tags": []
   },
   "outputs": [],
   "source": [
    "########### Generate the dataframe with all data points with upward trend\n",
    "def genDataframeInc():\n",
    "    l = []\n",
    "    m = []\n",
    "    row = []\n",
    "    result = []\n",
    "    for i in range(0, 1800):\n",
    "        row.append(i) #+1800\n",
    "        l.append(round(random.uniform(13.01, 13.99),2))\n",
    "        m.append(round(l[i]+random.uniform(0.01, 0.09),2))\n",
    "    l.sort()\n",
    "    m.sort()\n",
    "    result = genTimestamp()\n",
    "    df=pd.DataFrame(columns=['Row','Symbol','Timestamp','Bid_Price','Bid_Size','Ask_Price','Ask_Size'])\n",
    "    for i in range(0, 1800):\n",
    "        df = df.append({\n",
    "                   'Row': str(row[i]),\n",
    "                   'Symbol' : 'ABC', \n",
    "                   'Timestamp' : str(result[i]), \n",
    "                   'Bid_Price' : l[i], \n",
    "                   'Bid_Size' : '1', \n",
    "                   'Ask_Price' : m[i], \n",
    "                   'Ask_Size' : '1'}, ignore_index = True)\n",
    "    return df"
   ]
  },
  {
   "cell_type": "code",
   "execution_count": null,
   "id": "c2fb7d7b-38c1-4556-8a0a-93e2bc23292f",
   "metadata": {},
   "outputs": [],
   "source": [
    "########### Generate the dataframe with all data points with downward trend\n",
    "def genDataframeRev():\n",
    "    l = []\n",
    "    m = []\n",
    "    row = []\n",
    "    result = []\n",
    "    for i in range(0, 1800):\n",
    "        row.append(i) #+1800\n",
    "        l.append(round(random.uniform(13.01, 13.99),2))\n",
    "        m.append(round(l[i]+random.uniform(0.01, 0.09),2))\n",
    "    # l.sort()\n",
    "    # m.sort()\n",
    "    l.sort(reverse=True)\n",
    "    m.sort(reverse=True)\n",
    "    result = genTimestamp()\n",
    "    df=pd.DataFrame(columns=['Row','Symbol','Timestamp','Bid_Price','Bid_Size','Ask_Price','Ask_Size'])\n",
    "    for i in range(0, 1800):\n",
    "        df = df.append({\n",
    "                   'Row': str(row[i]+1800),\n",
    "                   'Symbol' : 'ABC', \n",
    "                   'Timestamp' : str(result[i+1800]), \n",
    "                   'Bid_Price' : l[i], \n",
    "                   'Bid_Size' : '1', \n",
    "                   'Ask_Price' : m[i], \n",
    "                   'Ask_Size' : '1'}, ignore_index = True)\n",
    "    return df"
   ]
  },
  {
   "cell_type": "code",
   "execution_count": 205,
   "id": "24eb1588-13c8-48a3-87ba-dafce6929a5a",
   "metadata": {},
   "outputs": [
    {
     "data": {
      "text/html": [
       "<div>\n",
       "<style scoped>\n",
       "    .dataframe tbody tr th:only-of-type {\n",
       "        vertical-align: middle;\n",
       "    }\n",
       "\n",
       "    .dataframe tbody tr th {\n",
       "        vertical-align: top;\n",
       "    }\n",
       "\n",
       "    .dataframe thead th {\n",
       "        text-align: right;\n",
       "    }\n",
       "</style>\n",
       "<table border=\"1\" class=\"dataframe\">\n",
       "  <thead>\n",
       "    <tr style=\"text-align: right;\">\n",
       "      <th></th>\n",
       "      <th>Row</th>\n",
       "      <th>Symbol</th>\n",
       "      <th>Timestamp</th>\n",
       "      <th>Bid_Price</th>\n",
       "      <th>Bid_Size</th>\n",
       "      <th>Ask_Price</th>\n",
       "      <th>Ask_Size</th>\n",
       "    </tr>\n",
       "  </thead>\n",
       "  <tbody>\n",
       "    <tr>\n",
       "      <th>1393</th>\n",
       "      <td>3193</td>\n",
       "      <td>ABC</td>\n",
       "      <td>2022-04-25 21:53:12</td>\n",
       "      <td>13.22</td>\n",
       "      <td>1</td>\n",
       "      <td>13.28</td>\n",
       "      <td>1</td>\n",
       "    </tr>\n",
       "    <tr>\n",
       "      <th>641</th>\n",
       "      <td>2441</td>\n",
       "      <td>ABC</td>\n",
       "      <td>2022-04-25 21:40:40</td>\n",
       "      <td>13.64</td>\n",
       "      <td>1</td>\n",
       "      <td>13.69</td>\n",
       "      <td>1</td>\n",
       "    </tr>\n",
       "    <tr>\n",
       "      <th>473</th>\n",
       "      <td>2273</td>\n",
       "      <td>ABC</td>\n",
       "      <td>2022-04-25 21:37:52</td>\n",
       "      <td>13.74</td>\n",
       "      <td>1</td>\n",
       "      <td>13.78</td>\n",
       "      <td>1</td>\n",
       "    </tr>\n",
       "    <tr>\n",
       "      <th>1319</th>\n",
       "      <td>3119</td>\n",
       "      <td>ABC</td>\n",
       "      <td>2022-04-25 21:51:58</td>\n",
       "      <td>13.26</td>\n",
       "      <td>1</td>\n",
       "      <td>13.31</td>\n",
       "      <td>1</td>\n",
       "    </tr>\n",
       "    <tr>\n",
       "      <th>1616</th>\n",
       "      <td>3416</td>\n",
       "      <td>ABC</td>\n",
       "      <td>2022-04-25 21:56:55</td>\n",
       "      <td>13.12</td>\n",
       "      <td>1</td>\n",
       "      <td>13.16</td>\n",
       "      <td>1</td>\n",
       "    </tr>\n",
       "  </tbody>\n",
       "</table>\n",
       "</div>"
      ],
      "text/plain": [
       "       Row Symbol            Timestamp  Bid_Price Bid_Size  Ask_Price Ask_Size\n",
       "1393  3193    ABC  2022-04-25 21:53:12      13.22        1      13.28        1\n",
       "641   2441    ABC  2022-04-25 21:40:40      13.64        1      13.69        1\n",
       "473   2273    ABC  2022-04-25 21:37:52      13.74        1      13.78        1\n",
       "1319  3119    ABC  2022-04-25 21:51:58      13.26        1      13.31        1\n",
       "1616  3416    ABC  2022-04-25 21:56:55      13.12        1      13.16        1"
      ]
     },
     "execution_count": 205,
     "metadata": {},
     "output_type": "execute_result"
    }
   ],
   "source": [
    "df = genDataFrameInc()\n",
    "####\n",
    "# df = genDataFrameRev()\n",
    "df.sample(5)"
   ]
  },
  {
   "cell_type": "markdown",
   "id": "c1413592-9f8b-4028-807a-e21d8b9e76c5",
   "metadata": {},
   "source": [
    "Insert data into BQ"
   ]
  },
  {
   "cell_type": "code",
   "execution_count": 206,
   "id": "2861b6b2-59ac-4462-9c25-67308a4e2290",
   "metadata": {
    "tags": []
   },
   "outputs": [
    {
     "data": {
      "text/plain": [
       "LoadJob<project=experiment-megha, location=US, id=ef787798-1752-472c-ab2e-4f78bfb2d758>"
      ]
     },
     "execution_count": 206,
     "metadata": {},
     "output_type": "execute_result"
    }
   ],
   "source": [
    "\n",
    "table_id = 'experiment-megha.strike_gts.nbbo_cpy'\n",
    "\n",
    "job_config = bigquery.LoadJobConfig(\n",
    "    schema=[\n",
    "        bigquery.SchemaField(\"Row\", bigquery.enums.SqlTypeNames.STRING),\n",
    "        bigquery.SchemaField(\"Symbol\", bigquery.enums.SqlTypeNames.STRING),\n",
    "        bigquery.SchemaField(\"Timestamp\", bigquery.enums.SqlTypeNames.STRING),\n",
    "        bigquery.SchemaField(\"Bid_Price\", bigquery.enums.SqlTypeNames.FLOAT),\n",
    "        bigquery.SchemaField(\"Bid_Size\", bigquery.enums.SqlTypeNames.STRING),\n",
    "        bigquery.SchemaField(\"Ask_Price\", bigquery.enums.SqlTypeNames.FLOAT),\n",
    "        bigquery.SchemaField(\"Ask_Size\", bigquery.enums.SqlTypeNames.STRING),\n",
    "    ])\n",
    "\n",
    "job = client.load_table_from_dataframe(\n",
    "    df, table_id, job_config)  \n",
    "job.result() "
   ]
  },
  {
   "cell_type": "code",
   "execution_count": 186,
   "id": "4dd23855-cf5a-4e8d-8c93-100be8073e4c",
   "metadata": {},
   "outputs": [],
   "source": []
  },
  {
   "cell_type": "code",
   "execution_count": null,
   "id": "263dd13e-715a-4bdd-b207-2dd67c0c560c",
   "metadata": {},
   "outputs": [],
   "source": []
  }
 ],
 "metadata": {
  "environment": {
   "kernel": "python3",
   "name": "tf2-gpu.2-8.m90",
   "type": "gcloud",
   "uri": "gcr.io/deeplearning-platform-release/tf2-gpu.2-8:m90"
  },
  "kernelspec": {
   "display_name": "Python 3",
   "language": "python",
   "name": "python3"
  },
  "language_info": {
   "codemirror_mode": {
    "name": "ipython",
    "version": 3
   },
   "file_extension": ".py",
   "mimetype": "text/x-python",
   "name": "python",
   "nbconvert_exporter": "python",
   "pygments_lexer": "ipython3",
   "version": "3.7.12"
  }
 },
 "nbformat": 4,
 "nbformat_minor": 5
}
